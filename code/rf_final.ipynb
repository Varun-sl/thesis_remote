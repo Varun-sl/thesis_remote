{
 "cells": [
  {
   "cell_type": "code",
   "execution_count": 64,
   "metadata": {},
   "outputs": [],
   "source": [
    "import pandas as pd\n",
    "import matplotlib.pyplot as plt\n",
    "from sklearn.ensemble import RandomForestRegressor\n",
    "from sklearn.model_selection import train_test_split\n",
    "from sklearn.metrics import r2_score, mean_squared_error\n",
    "from sklearn.model_selection import train_test_split, GridSearchCV\n",
    "from sklearn.model_selection import RandomizedSearchCV\n",
    "from scipy.stats import randint\n",
    "import pickle\n",
    "import cv2\n",
    "import numpy as np\n",
    "import csv"
   ]
  },
  {
   "cell_type": "code",
   "execution_count": 65,
   "metadata": {},
   "outputs": [],
   "source": [
    "# Load the dataset\n",
    "data = pd.read_csv(\"leaf_features.csv\")"
   ]
  },
  {
   "cell_type": "code",
   "execution_count": 66,
   "metadata": {},
   "outputs": [],
   "source": [
    "data = data.drop(columns=['Image Name'])"
   ]
  },
  {
   "cell_type": "code",
   "execution_count": 67,
   "metadata": {},
   "outputs": [
    {
     "data": {
      "text/html": [
       "<div>\n",
       "<style scoped>\n",
       "    .dataframe tbody tr th:only-of-type {\n",
       "        vertical-align: middle;\n",
       "    }\n",
       "\n",
       "    .dataframe tbody tr th {\n",
       "        vertical-align: top;\n",
       "    }\n",
       "\n",
       "    .dataframe thead th {\n",
       "        text-align: right;\n",
       "    }\n",
       "</style>\n",
       "<table border=\"1\" class=\"dataframe\">\n",
       "  <thead>\n",
       "    <tr style=\"text-align: right;\">\n",
       "      <th></th>\n",
       "      <th>Weight</th>\n",
       "      <th>Leaf Count</th>\n",
       "      <th>Leaf Area Covered</th>\n",
       "    </tr>\n",
       "  </thead>\n",
       "  <tbody>\n",
       "    <tr>\n",
       "      <th>0</th>\n",
       "      <td>0.1125</td>\n",
       "      <td>7</td>\n",
       "      <td>9755.5</td>\n",
       "    </tr>\n",
       "    <tr>\n",
       "      <th>1</th>\n",
       "      <td>0.1652</td>\n",
       "      <td>6</td>\n",
       "      <td>9569.0</td>\n",
       "    </tr>\n",
       "    <tr>\n",
       "      <th>2</th>\n",
       "      <td>0.1250</td>\n",
       "      <td>11</td>\n",
       "      <td>11585.5</td>\n",
       "    </tr>\n",
       "    <tr>\n",
       "      <th>3</th>\n",
       "      <td>0.0663</td>\n",
       "      <td>4</td>\n",
       "      <td>4089.0</td>\n",
       "    </tr>\n",
       "    <tr>\n",
       "      <th>4</th>\n",
       "      <td>0.1813</td>\n",
       "      <td>10</td>\n",
       "      <td>18733.0</td>\n",
       "    </tr>\n",
       "    <tr>\n",
       "      <th>...</th>\n",
       "      <td>...</td>\n",
       "      <td>...</td>\n",
       "      <td>...</td>\n",
       "    </tr>\n",
       "    <tr>\n",
       "      <th>544</th>\n",
       "      <td>0.0152</td>\n",
       "      <td>5</td>\n",
       "      <td>10566.5</td>\n",
       "    </tr>\n",
       "    <tr>\n",
       "      <th>545</th>\n",
       "      <td>0.1295</td>\n",
       "      <td>11</td>\n",
       "      <td>12447.5</td>\n",
       "    </tr>\n",
       "    <tr>\n",
       "      <th>546</th>\n",
       "      <td>0.1104</td>\n",
       "      <td>7</td>\n",
       "      <td>18210.0</td>\n",
       "    </tr>\n",
       "    <tr>\n",
       "      <th>547</th>\n",
       "      <td>0.1432</td>\n",
       "      <td>11</td>\n",
       "      <td>22283.5</td>\n",
       "    </tr>\n",
       "    <tr>\n",
       "      <th>548</th>\n",
       "      <td>0.0775</td>\n",
       "      <td>6</td>\n",
       "      <td>11020.5</td>\n",
       "    </tr>\n",
       "  </tbody>\n",
       "</table>\n",
       "<p>549 rows × 3 columns</p>\n",
       "</div>"
      ],
      "text/plain": [
       "     Weight  Leaf Count  Leaf Area Covered\n",
       "0    0.1125           7             9755.5\n",
       "1    0.1652           6             9569.0\n",
       "2    0.1250          11            11585.5\n",
       "3    0.0663           4             4089.0\n",
       "4    0.1813          10            18733.0\n",
       "..      ...         ...                ...\n",
       "544  0.0152           5            10566.5\n",
       "545  0.1295          11            12447.5\n",
       "546  0.1104           7            18210.0\n",
       "547  0.1432          11            22283.5\n",
       "548  0.0775           6            11020.5\n",
       "\n",
       "[549 rows x 3 columns]"
      ]
     },
     "execution_count": 67,
     "metadata": {},
     "output_type": "execute_result"
    }
   ],
   "source": [
    "data"
   ]
  },
  {
   "cell_type": "code",
   "execution_count": 68,
   "metadata": {},
   "outputs": [],
   "source": [
    "# Split the data into training and testing sets\n",
    "X_train, X_test, y_train, y_test = train_test_split(data[[\"Leaf Count\", \"Leaf Area Covered\"]], data[\"Weight\"], test_size=0.1, random_state=42)"
   ]
  },
  {
   "cell_type": "code",
   "execution_count": 69,
   "metadata": {},
   "outputs": [],
   "source": [
    "param_grid = {\n",
    "    'n_estimators': [500, 1000, 1500],\n",
    "    'max_depth': [None, 5, 10, 20, 50],\n",
    "    'min_samples_split': [2, 3, 4, 5, 6]\n",
    "}"
   ]
  },
  {
   "cell_type": "code",
   "execution_count": 70,
   "metadata": {},
   "outputs": [],
   "source": [
    "# # Create a Random Forest regressor model\n",
    "# rf = RandomForestRegressor(n_estimators=100, random_state=42)"
   ]
  },
  {
   "cell_type": "code",
   "execution_count": 71,
   "metadata": {},
   "outputs": [
    {
     "data": {
      "text/plain": [
       "GridSearchCV(cv=5, estimator=RandomForestRegressor(random_state=42),\n",
       "             param_grid={'max_depth': [None, 5, 10, 20, 50],\n",
       "                         'min_samples_split': [2, 3, 4, 5, 6],\n",
       "                         'n_estimators': [500, 1000, 1500]},\n",
       "             scoring='neg_mean_squared_error')"
      ]
     },
     "execution_count": 71,
     "metadata": {},
     "output_type": "execute_result"
    }
   ],
   "source": [
    "# Perform Grid Search to find the best hyperparameters\n",
    "grid_search = GridSearchCV(estimator=rf, param_grid=param_grid, scoring='neg_mean_squared_error', cv=5)\n",
    "grid_search.fit(X_train, y_train)"
   ]
  },
  {
   "cell_type": "code",
   "execution_count": 72,
   "metadata": {},
   "outputs": [],
   "source": [
    "# Get the best model and its hyperparameters\n",
    "best_rf = grid_search.best_estimator_\n",
    "best_params = grid_search.best_params_"
   ]
  },
  {
   "cell_type": "code",
   "execution_count": 73,
   "metadata": {},
   "outputs": [
    {
     "data": {
      "text/plain": [
       "RandomForestRegressor(max_depth=5, min_samples_split=6, n_estimators=1000,\n",
       "                      random_state=42)"
      ]
     },
     "execution_count": 73,
     "metadata": {},
     "output_type": "execute_result"
    }
   ],
   "source": [
    "# Train the best model on the entire training set\n",
    "# rf.fit(X_train, y_train)\n",
    "best_rf.fit(X_train, y_train)"
   ]
  },
  {
   "cell_type": "code",
   "execution_count": 74,
   "metadata": {},
   "outputs": [],
   "source": [
    "# Save the trained model to a file\n",
    "filename = 'rf_model_new.pkl'\n",
    "pickle.dump(rf, open(filename, 'wb'))"
   ]
  },
  {
   "cell_type": "code",
   "execution_count": 75,
   "metadata": {},
   "outputs": [],
   "source": [
    "# Predict the biomass for the test set using the best model\n",
    "y_pred = best_rf.predict(X_test)"
   ]
  },
  {
   "cell_type": "code",
   "execution_count": 76,
   "metadata": {},
   "outputs": [],
   "source": [
    "# Compute R^2 score and mean squared error\n",
    "r2 = r2_score(y_test, y_pred)\n",
    "mse = mean_squared_error(y_test, y_pred)"
   ]
  },
  {
   "cell_type": "code",
   "execution_count": 77,
   "metadata": {},
   "outputs": [
    {
     "name": "stdout",
     "output_type": "stream",
     "text": [
      "Best Hyperparameters: {'max_depth': 5, 'min_samples_split': 6, 'n_estimators': 1000}\n",
      "R^2 Score: 0.240\n",
      "Mean Squared Error: 0.002\n"
     ]
    }
   ],
   "source": [
    "# Print the best hyperparameters, R^2 score, and mean squared error\n",
    "print(\"Best Hyperparameters:\", best_params)\n",
    "print(f\"R^2 Score: {r2:.3f}\")\n",
    "print(f\"Mean Squared Error: {mse:.3f}\")"
   ]
  },
  {
   "cell_type": "code",
   "execution_count": 78,
   "metadata": {},
   "outputs": [
    {
     "data": {
      "text/plain": [
       "99.58888652612039"
      ]
     },
     "execution_count": 78,
     "metadata": {},
     "output_type": "execute_result"
    }
   ],
   "source": [
    "(np.sum(y_pred)/np.sum(y_test))*100"
   ]
  },
  {
   "cell_type": "code",
   "execution_count": 79,
   "metadata": {},
   "outputs": [
    {
     "data": {
      "image/png": "[encoded data removed]",
      "text/plain": [
       "<Figure size 432x288 with 1 Axes>"
      ]
     },
     "metadata": {
      "needs_background": "light"
     },
     "output_type": "display_data"
    }
   ],
   "source": [
    "# Plot the actual biomass values and predicted biomass values\n",
    "plt.scatter(y_test, y_pred)\n",
    "plt.plot([y_test.min(), y_test.max()], [y_test.min(), y_test.max()], 'k--', lw=2)\n",
    "plt.xlabel('Actual Biomass')\n",
    "plt.ylabel('Predicted Biomass')\n",
    "plt.title('Biomass Estimation - Random Forest (Tuned)')\n",
    "plt.show()"
   ]
  },
  {
   "cell_type": "code",
   "execution_count": 80,
   "metadata": {},
   "outputs": [],
   "source": [
    "# # Load the trained RF model from file\n",
    "# model = pickle.load(open('rf_model_new.pkl', 'rb'))"
   ]
  },
  {
   "cell_type": "code",
   "execution_count": 81,
   "metadata": {},
   "outputs": [],
   "source": [
    "# # Preprocess the input image\n",
    "# def preprocess_image(image):\n",
    "#     # Resize the image\n",
    "#     desired_width = 224\n",
    "#     desired_height = 224\n",
    "#     resized_image = cv2.resize(image, (desired_width, desired_height))\n",
    "\n",
    "#     # Convert the image to 8-bit unsigned integer\n",
    "#     if resized_image.dtype != 'uint8':\n",
    "#         resized_image = resized_image.astype('uint8')\n",
    "\n",
    "#     # Check if the image has only one channel (grayscale)\n",
    "#     if len(resized_image.shape) == 2:\n",
    "#         # Convert grayscale image to RGB\n",
    "#         resized_image = cv2.cvtColor(resized_image, cv2.COLOR_GRAY2RGB)\n",
    "\n",
    "#     # Normalize pixel values\n",
    "#     normalized_image = resized_image / 255.0\n",
    "\n",
    "#     return normalized_image"
   ]
  },
  {
   "cell_type": "code",
   "execution_count": 82,
   "metadata": {},
   "outputs": [],
   "source": [
    "# def extract_leaf_features(image_path):\n",
    "#     # Load the image\n",
    "#     image = cv2.imread(image_path)\n",
    "\n",
    "#     # Convert the image to grayscale\n",
    "#     gray = cv2.cvtColor(image, cv2.COLOR_BGR2GRAY)\n",
    "\n",
    "#     # Perform thresholding to separate the leaves from the background\n",
    "#     _, thresholded = cv2.threshold(gray, 0, 255, cv2.THRESH_BINARY_INV + cv2.THRESH_OTSU)\n",
    "\n",
    "#     # Find contours of the leaves\n",
    "#     contours, _ = cv2.findContours(thresholded, cv2.RETR_EXTERNAL, cv2.CHAIN_APPROX_SIMPLE)\n",
    "\n",
    "#     # Initialize lists to store leaf count and leaf length features\n",
    "#     leaf_count = len(contours)\n",
    "#     leaf_lengths = []\n",
    "\n",
    "#     # Calculate leaf length for each contour\n",
    "#     for contour in contours:\n",
    "#         # Calculate the length of the leaf contour using arc length\n",
    "#         length = cv2.arcLength(contour, True)\n",
    "#         leaf_lengths.append(length)\n",
    "\n",
    "#     # Export the features to a CSV file\n",
    "#     csv_file = \"leaf_features.csv\"\n",
    "#     with open(csv_file, 'w', newline='') as file:\n",
    "#         writer = csv.writer(file)\n",
    "#         writer.writerow([\"Leaf_Count\", \"Leaf_Length\"])\n",
    "#         writer.writerow([leaf_count, *leaf_lengths])\n",
    "\n",
    "#     print(\"Leaf features exported to:\", csv_file)\n",
    "\n",
    "#     return leaf_count, leaf_lengths, thresholded"
   ]
  },
  {
   "cell_type": "code",
   "execution_count": 83,
   "metadata": {},
   "outputs": [],
   "source": [
    "# def extract_leaf_features(image_path):\n",
    "#     # Load the image\n",
    "#     image = cv2.imread(image_path)\n",
    "\n",
    "#     # image = cv2.imread(image_path)\n",
    "\n",
    "#     # # Get the dimensions of the image\n",
    "#     # height, width, _ = image.shape\n",
    "\n",
    "#     # # Define the coordinates of the middle region\n",
    "#     # margin = 500  # Adjust this value as per your requirements\n",
    "#     # top = margin//100\n",
    "#     # bottom = height - margin\n",
    "#     # left = margin\n",
    "#     # right = width - (margin)\n",
    "\n",
    "#     # # Crop the middle region of the image\n",
    "#     # cropped_image = image[top:bottom, left:right]\n",
    "\n",
    "#     # Convert the cropped image to grayscale\n",
    "#     gray = cv2.cvtColor(image, cv2.COLOR_BGR2GRAY)\n",
    "\n",
    "#     # Perform adaptive thresholding to obtain a binary image\n",
    "#     thresholded = cv2.adaptiveThreshold(gray, 255, cv2.ADAPTIVE_THRESH_MEAN_C, cv2.THRESH_BINARY_INV, 11, 5)\n",
    "\n",
    "#     # Find contours of the leaves\n",
    "#     contours, _ = cv2.findContours(thresholded, cv2.RETR_EXTERNAL, cv2.CHAIN_APPROX_SIMPLE)\n",
    "\n",
    "#     # Initialize variables to store leaf count and leaf area\n",
    "#     leaf_count = 0\n",
    "#     leaf_area = 0\n",
    "\n",
    "#     # Calculate leaf count and area for each contour\n",
    "#     for contour in contours:\n",
    "#         # Approximate the contour to reduce the number of points\n",
    "#         epsilon = 0.06 * cv2.arcLength(contour, True)\n",
    "#         approx = cv2.approxPolyDP(contour, epsilon, True)\n",
    "\n",
    "#         # Exclude contours with very small areas\n",
    "#         if cv2.contourArea(approx) > 350:\n",
    "#             leaf_count += 1\n",
    "#             leaf_area += cv2.contourArea(approx)\n",
    "\n",
    "#     #Export the features to a CSV file\n",
    "#     csv_file = \"leaf_features.csv\"\n",
    "#     with open(csv_file, 'w', newline='') as file:\n",
    "#         writer = csv.writer(file)\n",
    "#         writer.writerow([\"Leaf_Count\", \"leaf_area\"])\n",
    "#         writer.writerow([leaf_count, leaf_area])\n",
    "\n",
    "#     print(\"Leaf features exported to:\", csv_file)\n",
    "\n",
    "#     # Return the leaf count and leaf area\n",
    "#     return leaf_count, leaf_area, thresholded"
   ]
  },
  {
   "cell_type": "code",
   "execution_count": 84,
   "metadata": {},
   "outputs": [],
   "source": [
    "# def extract_leaf_features(image_path, one_leaf_length):\n",
    "#     # Load the image\n",
    "#     image = cv2.imread(image_path)\n",
    "\n",
    "#     # Convert the image to grayscale\n",
    "#     gray = cv2.cvtColor(image, cv2.COLOR_BGR2GRAY)\n",
    "\n",
    "#     # Perform thresholding to obtain a binary image\n",
    "#     _, thresholded = cv2.threshold(gray, 0, 255, cv2.THRESH_BINARY_INV + cv2.THRESH_OTSU)\n",
    "\n",
    "#     # Find contours of the leaves\n",
    "#     contours, _ = cv2.findContours(thresholded, cv2.RETR_EXTERNAL, cv2.CHAIN_APPROX_SIMPLE)\n",
    "\n",
    "#     # Initialize variables to store leaf count and leaf coverage area\n",
    "#     leaf_count = 0\n",
    "#     leaf_area = 0\n",
    "\n",
    "#     # Calculate leaf count and area for each contour\n",
    "#     for contour in contours:\n",
    "#         # Calculate the area of the contour\n",
    "#         area = cv2.contourArea(contour)\n",
    "#         leaf_area += area\n",
    "\n",
    "#         # Calculate the length of the contour using arc length\n",
    "#         length = cv2.arcLength(contour, True)\n",
    "\n",
    "#         # Calculate the number of leaves based on the reference length\n",
    "#         num_leaves = length / one_leaf_length\n",
    "#         leaf_count += num_leaves\n",
    "\n",
    "#     return leaf_count, leaf_area, thresholded"
   ]
  },
  {
   "cell_type": "code",
   "execution_count": 85,
   "metadata": {},
   "outputs": [],
   "source": [
    "# image_path = \"../images/cropped/77_3.jpg\""
   ]
  },
  {
   "cell_type": "code",
   "execution_count": 86,
   "metadata": {},
   "outputs": [],
   "source": [
    "# one_leaf_length = 4"
   ]
  },
  {
   "cell_type": "code",
   "execution_count": 87,
   "metadata": {},
   "outputs": [],
   "source": [
    "# leaf_count, leaf_area, thresholded = extract_leaf_features(image_path)"
   ]
  },
  {
   "cell_type": "code",
   "execution_count": 88,
   "metadata": {},
   "outputs": [],
   "source": [
    "# # Display the thresholded image\n",
    "# plt.imshow(thresholded, cmap='gray')\n",
    "# plt.axis('off')\n",
    "# plt.show()"
   ]
  },
  {
   "cell_type": "code",
   "execution_count": 89,
   "metadata": {},
   "outputs": [],
   "source": [
    "# print(\"Leaf Count:\", leaf_count)\n",
    "# print(\"Leaf Area:\", leaf_area)"
   ]
  },
  {
   "cell_type": "code",
   "execution_count": 90,
   "metadata": {},
   "outputs": [],
   "source": [
    "# # Load the leaf features from the CSV file\n",
    "# leaf_features = pd.read_csv(\"leaf_features.csv\")"
   ]
  },
  {
   "cell_type": "code",
   "execution_count": 91,
   "metadata": {},
   "outputs": [],
   "source": [
    "# # Select the first two columns (leaf count and leaf lengths)\n",
    "# X_pred = leaf_features.iloc[:, :2]"
   ]
  },
  {
   "cell_type": "code",
   "execution_count": 92,
   "metadata": {},
   "outputs": [],
   "source": [
    "# X_pred"
   ]
  },
  {
   "cell_type": "code",
   "execution_count": 93,
   "metadata": {},
   "outputs": [],
   "source": [
    "# # Predict the biomass using the RF model\n",
    "# biomass_pred = model.predict(X_pred)"
   ]
  },
  {
   "cell_type": "code",
   "execution_count": 94,
   "metadata": {},
   "outputs": [],
   "source": [
    "# # Print the predicted biomass\n",
    "# print(\"Predicted Biomass:\", biomass_pred)"
   ]
  },
  {
   "cell_type": "code",
   "execution_count": null,
   "metadata": {},
   "outputs": [],
   "source": []
  },
  {
   "cell_type": "code",
   "execution_count": null,
   "metadata": {},
   "outputs": [],
   "source": []
  }
 ],
 "metadata": {
  "kernelspec": {
   "display_name": "base",
   "language": "python",
   "name": "python3"
  },
  "language_info": {
   "codemirror_mode": {
    "name": "ipython",
    "version": 3
   },
   "file_extension": ".py",
   "mimetype": "text/x-python",
   "name": "python",
   "nbconvert_exporter": "python",
   "pygments_lexer": "ipython3",
   "version": "3.8.3"
  },
  "orig_nbformat": 4
 },
 "nbformat": 4,
 "nbformat_minor": 2
}
