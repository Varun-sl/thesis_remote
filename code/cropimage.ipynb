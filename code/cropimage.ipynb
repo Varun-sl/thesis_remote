{
 "cells": [
  {
   "cell_type": "code",
   "execution_count": null,
   "metadata": {},
   "outputs": [],
   "source": [
    "import cv2"
   ]
  },
  {
   "cell_type": "code",
   "execution_count": null,
   "metadata": {},
   "outputs": [],
   "source": [
    "def crop_image(input_image_path, output_image_path, crop_box):\n",
    "    image = cv2.imread(input_image_path)\n",
    "    cropped_image = image[crop_box[1]:crop_box[3], crop_box[0]:crop_box[2]]\n",
    "    cv2.imwrite(output_image_path, cropped_image)"
   ]
  },
  {
   "cell_type": "code",
   "execution_count": null,
   "metadata": {},
   "outputs": [],
   "source": [
    "#crop_box = (200, 80, 450, 200)  # (x, y, width, height) #top left\n",
    "#crop_box = (550, 220, 750, 450) # bottom right\n",
    "#crop_box = (500, 20, 750, 200) # top right\n",
    "#crop_box = (220, 380, 600, 500) #bottom left\n",
    "#crop_box = (300, 200, 600, 400) #middle\n",
    "\n",
    "#crop_box = (1150, 0, 1400, 150) #top right\n",
    "#crop_box = (1150, 500, 1400, 800) # bottom right\n",
    "#crop_box = (400, 400, 900, 800) #bottom left\n",
    "#crop_box = (500, 0, 900, 250) # top left\n",
    "#crop_box = (800, 250, 1100, 550) #middle"
   ]
  },
  {
   "cell_type": "code",
   "execution_count": null,
   "metadata": {},
   "outputs": [],
   "source": [
    "input_image = \"./glasshouse_images/original/167.jpg\""
   ]
  },
  {
   "cell_type": "code",
   "execution_count": null,
   "metadata": {},
   "outputs": [],
   "source": [
    "output_image = \"./glasshouse_images/cropped/167_1.jpeg\""
   ]
  },
  {
   "cell_type": "code",
   "execution_count": null,
   "metadata": {},
   "outputs": [],
   "source": [
    "crop_box = (750, 150, 950, 500) #top right\n",
    "#crop_box = (530, 500, 900, 950) # bottom right\n",
    "#crop_box = (150, 500, 550, 820) #bottom left\n",
    "#crop_box = (130, 150, 500, 500) # top left\n",
    "#crop_box = (550, 400, 850, 650) #middle"
   ]
  },
  {
   "cell_type": "code",
   "execution_count": null,
   "metadata": {},
   "outputs": [],
   "source": [
    "crop_image(input_image, output_image, crop_box)"
   ]
  }
 ],
 "metadata": {
  "language_info": {
   "name": "python"
  },
  "orig_nbformat": 4
 },
 "nbformat": 4,
 "nbformat_minor": 2
}
